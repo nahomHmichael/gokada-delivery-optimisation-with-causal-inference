{
 "cells": [
  {
   "cell_type": "code",
   "execution_count": 1,
   "metadata": {},
   "outputs": [
    {
     "name": "stderr",
     "output_type": "stream",
     "text": [
      "/home/nhgirma/anaconda3/envs/10acadenv/lib/python3.8/site-packages/tqdm/auto.py:22: TqdmWarning: IProgress not found. Please update jupyter and ipywidgets. See https://ipywidgets.readthedocs.io/en/stable/user_install.html\n",
      "  from .autonotebook import tqdm as notebook_tqdm\n",
      "WARNING:root:MDLP was not imported successfully\n"
     ]
    }
   ],
   "source": [
    "# Load Libraries\n",
    "\n",
    "import os\n",
    "import sys\n",
    "import copy\n",
    "import joblib\n",
    "import pandas as pd\n",
    "import numpy as np\n",
    "import mlflow\n",
    "import time\n",
    "import warnings\n",
    "from sklearn.preprocessing import Normalizer, MinMaxScaler\n",
    "import matplotlib.pyplot as plt\n",
    "import seaborn as sns\n",
    "from sklearn.model_selection import train_test_split\n",
    "\n",
    "from IPython.display import Image\n",
    "\n",
    "from sklearn.metrics import classification_report,confusion_matrix\n",
    "from sklearn.feature_selection import RFE\n",
    "from sklearn.ensemble import RandomForestRegressor\n",
    "from sklearn.metrics import recall_score, f1_score, accuracy_score, precision_score\n",
    "from sklearn.model_selection import train_test_split \n",
    "from sklearn.linear_model import LogisticRegression\n",
    "from sklearn.metrics import confusion_matrix as con_mat\n",
    "from sklearn import metrics\n",
    "\n",
    "from sklearn.model_selection import train_test_split\n",
    "from sklearn.preprocessing import LabelEncoder\n",
    "from sklearn.preprocessing import StandardScaler\n",
    "from sklearn.ensemble import RandomForestClassifier\n",
    "from sklearn.metrics import classification_report\n",
    "\n",
    "\n",
    "import causalnex\n",
    "from causalnex.structure.notears import from_pandas\n",
    "from causalnex.plots import plot_structure, NODE_STYLE, EDGE_STYLE\n",
    "from causalnex.discretiser import Discretiser\n",
    "from causalnex.structure import DAGRegressor\n",
    "from causalnex.inference import InferenceEngine\n",
    "from causalnex.network import BayesianNetwork\n",
    "from causalnex.network.sklearn import BayesianNetworkClassifier\n",
    "from causalnex.discretiser.discretiser_strategy import (DecisionTreeSupervisedDiscretiserMethod,)\n",
    "from causalnex.network import BayesianNetwork\n",
    "from causalnex.inference import InferenceEngine\n",
    "\n",
    "warnings.filterwarnings(\"ignore\")"
   ]
  },
  {
   "cell_type": "code",
   "execution_count": 2,
   "metadata": {},
   "outputs": [],
   "source": [
    "merged_df = pd.read_csv('../data/merged.csv')"
   ]
  },
  {
   "cell_type": "code",
   "execution_count": 3,
   "metadata": {},
   "outputs": [],
   "source": [
    "sys.path.append('../scripts')\n",
    "from helpers import Helper\n",
    "UTIL = Helper()"
   ]
  },
  {
   "cell_type": "code",
   "execution_count": 4,
   "metadata": {},
   "outputs": [],
   "source": [
    "merged_df[\"date\"]=merged_df[\"trip_start_time\"].apply(lambda x: pd.to_datetime(x).date())\n",
    "merged_df[\"hour\"]=merged_df[\"trip_start_time\"].apply(lambda x: pd.to_datetime(x).hour)"
   ]
  },
  {
   "cell_type": "code",
   "execution_count": 5,
   "metadata": {},
   "outputs": [
    {
     "name": "stdout",
     "output_type": "stream",
     "text": [
      "<class 'pandas.core.frame.DataFrame'>\n",
      "RangeIndex: 1557740 entries, 0 to 1557739\n",
      "Data columns (total 21 columns):\n",
      " #   Column            Non-Null Count    Dtype  \n",
      "---  ------            --------------    -----  \n",
      " 0   id                1557740 non-null  int64  \n",
      " 1   order_id          1557740 non-null  int64  \n",
      " 2   driver_id         1557740 non-null  int64  \n",
      " 3   driver_action     1557740 non-null  object \n",
      " 4   lat               1557740 non-null  float64\n",
      " 5   lng               1557740 non-null  float64\n",
      " 6   trip_id           1557740 non-null  int64  \n",
      " 7   trip_start_time   1557740 non-null  object \n",
      " 8   trip_end_time     1557740 non-null  object \n",
      " 9   trip_origin_lat   1557740 non-null  float64\n",
      " 10  trip_origin_long  1557740 non-null  float64\n",
      " 11  trip_destn_lat    1557740 non-null  float64\n",
      " 12  trip_destn_long   1557740 non-null  float64\n",
      " 13  trip_distance     1557740 non-null  float64\n",
      " 14  trip_duration     1557740 non-null  float64\n",
      " 15  speed(kmph)       1557740 non-null  float64\n",
      " 16  year              1557740 non-null  int64  \n",
      " 17  month             1557740 non-null  int64  \n",
      " 18  day_of_week       1557740 non-null  object \n",
      " 19  date              1557740 non-null  object \n",
      " 20  hour              1557740 non-null  int64  \n",
      "dtypes: float64(9), int64(7), object(5)\n",
      "memory usage: 249.6+ MB\n"
     ]
    }
   ],
   "source": [
    "merged_df.info()"
   ]
  },
  {
   "cell_type": "code",
   "execution_count": 6,
   "metadata": {},
   "outputs": [],
   "source": [
    "\n",
    "# merged_df['is_holiday'] = merged_df['trip_start_time'].apply(lambda x: UTIL.is_holiday(x))"
   ]
  },
  {
   "cell_type": "code",
   "execution_count": 7,
   "metadata": {},
   "outputs": [],
   "source": [
    "# merged_df['is_holiday'].value_counts()"
   ]
  },
  {
   "cell_type": "code",
   "execution_count": 9,
   "metadata": {},
   "outputs": [],
   "source": [
    "merged_df['is_weekend'] = merged_df['trip_start_time'].apply(lambda x: UTIL.isWeekend(x))"
   ]
  },
  {
   "cell_type": "code",
   "execution_count": 12,
   "metadata": {},
   "outputs": [
    {
     "data": {
      "text/plain": [
       "array([0, 1])"
      ]
     },
     "execution_count": 12,
     "metadata": {},
     "output_type": "execute_result"
    }
   ],
   "source": [
    "merged_df['is_weekend'].unique()"
   ]
  },
  {
   "cell_type": "code",
   "execution_count": 15,
   "metadata": {},
   "outputs": [],
   "source": [
    "# merged_df[merged_df['trip_duration']<=10]\n",
    "df[\"fulfilled\"] = (df[\"driver_action\"] == \"accepted\") & (df[\"duration_min\"] >=10)"
   ]
  },
  {
   "cell_type": "code",
   "execution_count": null,
   "metadata": {},
   "outputs": [],
   "source": []
  }
 ],
 "metadata": {
  "kernelspec": {
   "display_name": "Python 3.9.12 ('10acadenv')",
   "language": "python",
   "name": "python3"
  },
  "language_info": {
   "codemirror_mode": {
    "name": "ipython",
    "version": 3
   },
   "file_extension": ".py",
   "mimetype": "text/x-python",
   "name": "python",
   "nbconvert_exporter": "python",
   "pygments_lexer": "ipython3",
   "version": "3.9.13"
  },
  "orig_nbformat": 4,
  "vscode": {
   "interpreter": {
    "hash": "9affc55a103a458493b36d22b24f9a18e98f17bb90a2c333a816545cff84523c"
   }
  }
 },
 "nbformat": 4,
 "nbformat_minor": 2
}
