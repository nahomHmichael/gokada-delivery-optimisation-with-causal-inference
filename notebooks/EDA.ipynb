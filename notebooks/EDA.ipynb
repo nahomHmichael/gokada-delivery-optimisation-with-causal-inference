{
 "cells": [
  {
   "cell_type": "code",
   "execution_count": 1,
   "metadata": {},
   "outputs": [
    {
     "name": "stdout",
     "output_type": "stream",
     "text": [
      "Defaulting to user installation because normal site-packages is not writeable\n",
      "Requirement already satisfied: geopy in /home/nhgirma/.local/lib/python3.10/site-packages (2.2.0)\n",
      "Requirement already satisfied: geographiclib<2,>=1.49 in /home/nhgirma/.local/lib/python3.10/site-packages (from geopy) (1.52)\n"
     ]
    }
   ],
   "source": [
    "!pip install geopy\n",
    "import pandas as pd\n",
    "import matplotlib.pyplot as plt\n",
    "import numpy as np\n",
    "import seaborn as sns\n",
    "from geopy import distance\n",
    "sys.path.append('../scripts')\n",
    "from helpers import Helper"
   ]
  },
  {
   "cell_type": "markdown",
   "metadata": {},
   "source": [
    "Exploring Orders completed data"
   ]
  },
  {
   "cell_type": "code",
   "execution_count": 2,
   "metadata": {},
   "outputs": [],
   "source": [
    "df_orders = pd.read_csv('../data/nb.csv')"
   ]
  },
  {
   "cell_type": "code",
   "execution_count": 3,
   "metadata": {},
   "outputs": [],
   "source": [
    "# df_orders.head()"
   ]
  },
  {
   "cell_type": "code",
   "execution_count": 4,
   "metadata": {},
   "outputs": [
    {
     "data": {
      "text/plain": [
       "Trip ID                0\n",
       "Trip Origin            0\n",
       "Trip Destination       0\n",
       "Trip Start Time     1651\n",
       "Trip End Time          1\n",
       "dtype: int64"
      ]
     },
     "execution_count": 4,
     "metadata": {},
     "output_type": "execute_result"
    }
   ],
   "source": [
    "df_orders.isna().sum()"
   ]
  },
  {
   "cell_type": "code",
   "execution_count": 5,
   "metadata": {},
   "outputs": [
    {
     "name": "stdout",
     "output_type": "stream",
     "text": [
      "<class 'pandas.core.frame.DataFrame'>\n",
      "RangeIndex: 536020 entries, 0 to 536019\n",
      "Data columns (total 5 columns):\n",
      " #   Column            Non-Null Count   Dtype \n",
      "---  ------            --------------   ----- \n",
      " 0   Trip ID           536020 non-null  int64 \n",
      " 1   Trip Origin       536020 non-null  object\n",
      " 2   Trip Destination  536020 non-null  object\n",
      " 3   Trip Start Time   534369 non-null  object\n",
      " 4   Trip End Time     536019 non-null  object\n",
      "dtypes: int64(1), object(4)\n",
      "memory usage: 20.4+ MB\n"
     ]
    }
   ],
   "source": [
    "df_orders.info()"
   ]
  },
  {
   "cell_type": "code",
   "execution_count": 6,
   "metadata": {},
   "outputs": [
    {
     "data": {
      "text/html": [
       "<div>\n",
       "<style scoped>\n",
       "    .dataframe tbody tr th:only-of-type {\n",
       "        vertical-align: middle;\n",
       "    }\n",
       "\n",
       "    .dataframe tbody tr th {\n",
       "        vertical-align: top;\n",
       "    }\n",
       "\n",
       "    .dataframe thead th {\n",
       "        text-align: right;\n",
       "    }\n",
       "</style>\n",
       "<table border=\"1\" class=\"dataframe\">\n",
       "  <thead>\n",
       "    <tr style=\"text-align: right;\">\n",
       "      <th></th>\n",
       "      <th>Trip ID</th>\n",
       "    </tr>\n",
       "  </thead>\n",
       "  <tbody>\n",
       "    <tr>\n",
       "      <th>count</th>\n",
       "      <td>5.360200e+05</td>\n",
       "    </tr>\n",
       "    <tr>\n",
       "      <th>mean</th>\n",
       "      <td>9.910221e+05</td>\n",
       "    </tr>\n",
       "    <tr>\n",
       "      <th>std</th>\n",
       "      <td>3.456364e+05</td>\n",
       "    </tr>\n",
       "    <tr>\n",
       "      <th>min</th>\n",
       "      <td>3.919960e+05</td>\n",
       "    </tr>\n",
       "    <tr>\n",
       "      <th>25%</th>\n",
       "      <td>6.935610e+05</td>\n",
       "    </tr>\n",
       "    <tr>\n",
       "      <th>50%</th>\n",
       "      <td>9.910085e+05</td>\n",
       "    </tr>\n",
       "    <tr>\n",
       "      <th>75%</th>\n",
       "      <td>1.281570e+06</td>\n",
       "    </tr>\n",
       "    <tr>\n",
       "      <th>max</th>\n",
       "      <td>1.637709e+06</td>\n",
       "    </tr>\n",
       "  </tbody>\n",
       "</table>\n",
       "</div>"
      ],
      "text/plain": [
       "            Trip ID\n",
       "count  5.360200e+05\n",
       "mean   9.910221e+05\n",
       "std    3.456364e+05\n",
       "min    3.919960e+05\n",
       "25%    6.935610e+05\n",
       "50%    9.910085e+05\n",
       "75%    1.281570e+06\n",
       "max    1.637709e+06"
      ]
     },
     "execution_count": 6,
     "metadata": {},
     "output_type": "execute_result"
    }
   ],
   "source": [
    "df_orders.describe()"
   ]
  },
  {
   "cell_type": "code",
   "execution_count": 7,
   "metadata": {},
   "outputs": [
    {
     "data": {
      "text/plain": [
       "(536020, 5)"
      ]
     },
     "execution_count": 7,
     "metadata": {},
     "output_type": "execute_result"
    }
   ],
   "source": [
    "df_orders.shape"
   ]
  },
  {
   "cell_type": "markdown",
   "metadata": {},
   "source": [
    "Lets rename the column names to make it easier when storing to a database later"
   ]
  },
  {
   "cell_type": "code",
   "execution_count": 8,
   "metadata": {},
   "outputs": [
    {
     "name": "stdout",
     "output_type": "stream",
     "text": [
      "<class 'pandas.core.frame.DataFrame'>\n",
      "RangeIndex: 536020 entries, 0 to 536019\n",
      "Data columns (total 5 columns):\n",
      " #   Column            Non-Null Count   Dtype \n",
      "---  ------            --------------   ----- \n",
      " 0   trip_id           536020 non-null  int64 \n",
      " 1   trip_origin       536020 non-null  object\n",
      " 2   trip_destination  536020 non-null  object\n",
      " 3   trip_start_time   534369 non-null  object\n",
      " 4   trip_end_time     536019 non-null  object\n",
      "dtypes: int64(1), object(4)\n",
      "memory usage: 20.4+ MB\n"
     ]
    }
   ],
   "source": [
    "df_orders = df_orders.rename(columns={'Trip ID': 'trip_id', \n",
    "                    'Trip Origin': 'trip_origin', \n",
    "                    'Trip Destination': 'trip_destination', \n",
    "                    'Trip Start Time': 'trip_start_time', \n",
    "                    'Trip End Time': 'trip_end_time',})\n",
    "df_orders.info()"
   ]
  },
  {
   "cell_type": "markdown",
   "metadata": {},
   "source": [
    "Separate the latitude and longitude from trip_origin and trip_destination columns"
   ]
  },
  {
   "cell_type": "code",
   "execution_count": 9,
   "metadata": {},
   "outputs": [],
   "source": [
    "df_orders['trip_origin_lat'] = df_orders['trip_origin'].apply(lambda x: str(x).split(',')[0])\n",
    "df_orders['trip_origin_long'] = df_orders['trip_origin'].apply(lambda y: str(y).split(',')[1])"
   ]
  },
  {
   "cell_type": "code",
   "execution_count": 10,
   "metadata": {},
   "outputs": [],
   "source": [
    "# df_orders.head()\n",
    "df_orders['trip_destn_lat'] = df_orders['trip_destination'].apply(lambda x: str(x).split(',')[0])\n",
    "df_orders['trip_destn_long'] = df_orders['trip_destination'].apply(lambda y: str(y).split(',')[1])"
   ]
  },
  {
   "cell_type": "code",
   "execution_count": 11,
   "metadata": {},
   "outputs": [
    {
     "data": {
      "text/html": [
       "<div>\n",
       "<style scoped>\n",
       "    .dataframe tbody tr th:only-of-type {\n",
       "        vertical-align: middle;\n",
       "    }\n",
       "\n",
       "    .dataframe tbody tr th {\n",
       "        vertical-align: top;\n",
       "    }\n",
       "\n",
       "    .dataframe thead th {\n",
       "        text-align: right;\n",
       "    }\n",
       "</style>\n",
       "<table border=\"1\" class=\"dataframe\">\n",
       "  <thead>\n",
       "    <tr style=\"text-align: right;\">\n",
       "      <th></th>\n",
       "      <th>trip_id</th>\n",
       "      <th>trip_origin</th>\n",
       "      <th>trip_destination</th>\n",
       "      <th>trip_start_time</th>\n",
       "      <th>trip_end_time</th>\n",
       "      <th>trip_origin_lat</th>\n",
       "      <th>trip_origin_long</th>\n",
       "      <th>trip_destn_lat</th>\n",
       "      <th>trip_destn_long</th>\n",
       "    </tr>\n",
       "  </thead>\n",
       "  <tbody>\n",
       "    <tr>\n",
       "      <th>0</th>\n",
       "      <td>391996</td>\n",
       "      <td>6.508813001668548,3.37740316890347</td>\n",
       "      <td>6.650969799999999,3.3450307</td>\n",
       "      <td>2021-07-01 07:28:04</td>\n",
       "      <td>2021-07-01 07:29:37</td>\n",
       "      <td>6.508813001668548</td>\n",
       "      <td>3.37740316890347</td>\n",
       "      <td>6.650969799999999</td>\n",
       "      <td>3.3450307</td>\n",
       "    </tr>\n",
       "    <tr>\n",
       "      <th>1</th>\n",
       "      <td>391997</td>\n",
       "      <td>6.4316714,3.4555375</td>\n",
       "      <td>6.4280814653326,3.4721885847586</td>\n",
       "      <td>2021-07-01 06:38:04</td>\n",
       "      <td>2021-07-01 07:07:28</td>\n",
       "      <td>6.4316714</td>\n",
       "      <td>3.4555375</td>\n",
       "      <td>6.4280814653326</td>\n",
       "      <td>3.4721885847586</td>\n",
       "    </tr>\n",
       "  </tbody>\n",
       "</table>\n",
       "</div>"
      ],
      "text/plain": [
       "   trip_id                         trip_origin  \\\n",
       "0   391996  6.508813001668548,3.37740316890347   \n",
       "1   391997                 6.4316714,3.4555375   \n",
       "\n",
       "                  trip_destination      trip_start_time        trip_end_time  \\\n",
       "0      6.650969799999999,3.3450307  2021-07-01 07:28:04  2021-07-01 07:29:37   \n",
       "1  6.4280814653326,3.4721885847586  2021-07-01 06:38:04  2021-07-01 07:07:28   \n",
       "\n",
       "     trip_origin_lat  trip_origin_long     trip_destn_lat  trip_destn_long  \n",
       "0  6.508813001668548  3.37740316890347  6.650969799999999        3.3450307  \n",
       "1          6.4316714         3.4555375    6.4280814653326  3.4721885847586  "
      ]
     },
     "execution_count": 11,
     "metadata": {},
     "output_type": "execute_result"
    }
   ],
   "source": [
    "df_orders.head(2)"
   ]
  },
  {
   "cell_type": "markdown",
   "metadata": {},
   "source": [
    "Find the distances between trip origin and trip destination"
   ]
  },
  {
   "cell_type": "code",
   "execution_count": 12,
   "metadata": {},
   "outputs": [],
   "source": [
    "df_orders['trip_distance']=df_orders.apply(lambda x:distance.distance((x['trip_origin_lat'],x['trip_origin_long']), \n",
    "(x['trip_destn_lat'],x['trip_destn_long'])).km,axis=1)"
   ]
  },
  {
   "cell_type": "code",
   "execution_count": 13,
   "metadata": {},
   "outputs": [
    {
     "data": {
      "text/html": [
       "<div>\n",
       "<style scoped>\n",
       "    .dataframe tbody tr th:only-of-type {\n",
       "        vertical-align: middle;\n",
       "    }\n",
       "\n",
       "    .dataframe tbody tr th {\n",
       "        vertical-align: top;\n",
       "    }\n",
       "\n",
       "    .dataframe thead th {\n",
       "        text-align: right;\n",
       "    }\n",
       "</style>\n",
       "<table border=\"1\" class=\"dataframe\">\n",
       "  <thead>\n",
       "    <tr style=\"text-align: right;\">\n",
       "      <th></th>\n",
       "      <th>trip_id</th>\n",
       "      <th>trip_origin</th>\n",
       "      <th>trip_destination</th>\n",
       "      <th>trip_start_time</th>\n",
       "      <th>trip_end_time</th>\n",
       "      <th>trip_origin_lat</th>\n",
       "      <th>trip_origin_long</th>\n",
       "      <th>trip_destn_lat</th>\n",
       "      <th>trip_destn_long</th>\n",
       "      <th>trip_distance</th>\n",
       "    </tr>\n",
       "  </thead>\n",
       "  <tbody>\n",
       "    <tr>\n",
       "      <th>0</th>\n",
       "      <td>391996</td>\n",
       "      <td>6.508813001668548,3.37740316890347</td>\n",
       "      <td>6.650969799999999,3.3450307</td>\n",
       "      <td>2021-07-01 07:28:04</td>\n",
       "      <td>2021-07-01 07:29:37</td>\n",
       "      <td>6.508813001668548</td>\n",
       "      <td>3.37740316890347</td>\n",
       "      <td>6.650969799999999</td>\n",
       "      <td>3.3450307</td>\n",
       "      <td>16.123451</td>\n",
       "    </tr>\n",
       "    <tr>\n",
       "      <th>1</th>\n",
       "      <td>391997</td>\n",
       "      <td>6.4316714,3.4555375</td>\n",
       "      <td>6.4280814653326,3.4721885847586</td>\n",
       "      <td>2021-07-01 06:38:04</td>\n",
       "      <td>2021-07-01 07:07:28</td>\n",
       "      <td>6.4316714</td>\n",
       "      <td>3.4555375</td>\n",
       "      <td>6.4280814653326</td>\n",
       "      <td>3.4721885847586</td>\n",
       "      <td>1.884305</td>\n",
       "    </tr>\n",
       "    <tr>\n",
       "      <th>2</th>\n",
       "      <td>391998</td>\n",
       "      <td>6.631679399999999,3.3388976</td>\n",
       "      <td>6.508324099999999,3.3590397</td>\n",
       "      <td>2021-07-01 06:21:02</td>\n",
       "      <td>2021-07-01 07:02:23</td>\n",
       "      <td>6.631679399999999</td>\n",
       "      <td>3.3388976</td>\n",
       "      <td>6.508324099999999</td>\n",
       "      <td>3.3590397</td>\n",
       "      <td>13.822393</td>\n",
       "    </tr>\n",
       "    <tr>\n",
       "      <th>3</th>\n",
       "      <td>391999</td>\n",
       "      <td>6.572757200000001,3.3677082</td>\n",
       "      <td>6.584881099999999,3.3614073</td>\n",
       "      <td>2021-07-01 07:16:07</td>\n",
       "      <td>2021-07-01 07:29:42</td>\n",
       "      <td>6.572757200000001</td>\n",
       "      <td>3.3677082</td>\n",
       "      <td>6.584881099999999</td>\n",
       "      <td>3.3614073</td>\n",
       "      <td>1.511034</td>\n",
       "    </tr>\n",
       "    <tr>\n",
       "      <th>4</th>\n",
       "      <td>392001</td>\n",
       "      <td>6.6010417,3.2766339</td>\n",
       "      <td>6.4501069,3.3916154</td>\n",
       "      <td>2021-07-01 09:30:59</td>\n",
       "      <td>2021-07-01 09:34:36</td>\n",
       "      <td>6.6010417</td>\n",
       "      <td>3.2766339</td>\n",
       "      <td>6.4501069</td>\n",
       "      <td>3.3916154</td>\n",
       "      <td>20.984319</td>\n",
       "    </tr>\n",
       "  </tbody>\n",
       "</table>\n",
       "</div>"
      ],
      "text/plain": [
       "   trip_id                         trip_origin  \\\n",
       "0   391996  6.508813001668548,3.37740316890347   \n",
       "1   391997                 6.4316714,3.4555375   \n",
       "2   391998         6.631679399999999,3.3388976   \n",
       "3   391999         6.572757200000001,3.3677082   \n",
       "4   392001                 6.6010417,3.2766339   \n",
       "\n",
       "                  trip_destination      trip_start_time        trip_end_time  \\\n",
       "0      6.650969799999999,3.3450307  2021-07-01 07:28:04  2021-07-01 07:29:37   \n",
       "1  6.4280814653326,3.4721885847586  2021-07-01 06:38:04  2021-07-01 07:07:28   \n",
       "2      6.508324099999999,3.3590397  2021-07-01 06:21:02  2021-07-01 07:02:23   \n",
       "3      6.584881099999999,3.3614073  2021-07-01 07:16:07  2021-07-01 07:29:42   \n",
       "4              6.4501069,3.3916154  2021-07-01 09:30:59  2021-07-01 09:34:36   \n",
       "\n",
       "     trip_origin_lat  trip_origin_long     trip_destn_lat  trip_destn_long  \\\n",
       "0  6.508813001668548  3.37740316890347  6.650969799999999        3.3450307   \n",
       "1          6.4316714         3.4555375    6.4280814653326  3.4721885847586   \n",
       "2  6.631679399999999         3.3388976  6.508324099999999        3.3590397   \n",
       "3  6.572757200000001         3.3677082  6.584881099999999        3.3614073   \n",
       "4          6.6010417         3.2766339          6.4501069        3.3916154   \n",
       "\n",
       "   trip_distance  \n",
       "0      16.123451  \n",
       "1       1.884305  \n",
       "2      13.822393  \n",
       "3       1.511034  \n",
       "4      20.984319  "
      ]
     },
     "execution_count": 13,
     "metadata": {},
     "output_type": "execute_result"
    }
   ],
   "source": [
    "df_orders.head()"
   ]
  },
  {
   "cell_type": "markdown",
   "metadata": {},
   "source": [
    "lets see if we can get an insight using the info on hand"
   ]
  },
  {
   "cell_type": "code",
   "execution_count": 14,
   "metadata": {},
   "outputs": [
    {
     "data": {
      "text/plain": [
       "<AxesSubplot:xlabel='trip_id', ylabel='trip_distance'>"
      ]
     },
     "execution_count": 14,
     "metadata": {},
     "output_type": "execute_result"
    },
    {
     "data": {
      "image/png": "[encoded data removed]",
      "text/plain": [
       "<Figure size 640x480 with 1 Axes>"
      ]
     },
     "metadata": {},
     "output_type": "display_data"
    }
   ],
   "source": [
    "sns.scatterplot(y=df_orders['trip_distance'],x=df_orders['trip_id'])"
   ]
  },
  {
   "cell_type": "markdown",
   "metadata": {},
   "source": []
  },
  {
   "cell_type": "code",
   "execution_count": null,
   "metadata": {},
   "outputs": [],
   "source": []
  },
  {
   "cell_type": "code",
   "execution_count": null,
   "metadata": {},
   "outputs": [],
   "source": []
  },
  {
   "cell_type": "markdown",
   "metadata": {},
   "source": [
    "Drivers locations data"
   ]
  },
  {
   "cell_type": "code",
   "execution_count": 15,
   "metadata": {},
   "outputs": [],
   "source": [
    "df_drivers = pd.read_csv('../data/driver_locations_during_request.csv')"
   ]
  },
  {
   "cell_type": "code",
   "execution_count": 16,
   "metadata": {},
   "outputs": [
    {
     "name": "stdout",
     "output_type": "stream",
     "text": [
      "<class 'pandas.core.frame.DataFrame'>\n",
      "RangeIndex: 1557740 entries, 0 to 1557739\n",
      "Data columns (total 8 columns):\n",
      " #   Column         Non-Null Count    Dtype  \n",
      "---  ------         --------------    -----  \n",
      " 0   id             1557740 non-null  int64  \n",
      " 1   order_id       1557740 non-null  int64  \n",
      " 2   driver_id      1557740 non-null  int64  \n",
      " 3   driver_action  1557740 non-null  object \n",
      " 4   lat            1557740 non-null  float64\n",
      " 5   lng            1557740 non-null  float64\n",
      " 6   created_at     0 non-null        float64\n",
      " 7   updated_at     0 non-null        float64\n",
      "dtypes: float64(4), int64(3), object(1)\n",
      "memory usage: 95.1+ MB\n"
     ]
    }
   ],
   "source": [
    "df_drivers.info()"
   ]
  },
  {
   "cell_type": "code",
   "execution_count": 17,
   "metadata": {},
   "outputs": [
    {
     "data": {
      "text/plain": [
       "id                     0\n",
       "order_id               0\n",
       "driver_id              0\n",
       "driver_action          0\n",
       "lat                    0\n",
       "lng                    0\n",
       "created_at       1557740\n",
       "updated_at       1557740\n",
       "dtype: int64"
      ]
     },
     "execution_count": 17,
     "metadata": {},
     "output_type": "execute_result"
    }
   ],
   "source": [
    "df_drivers.isnull().sum()"
   ]
  },
  {
   "cell_type": "markdown",
   "metadata": {},
   "source": [
    "drop created_at and updated_at columns as they have no data "
   ]
  },
  {
   "cell_type": "code",
   "execution_count": 18,
   "metadata": {},
   "outputs": [],
   "source": [
    "cols = ['created_at','updated_at']\n"
   ]
  },
  {
   "cell_type": "code",
   "execution_count": 19,
   "metadata": {},
   "outputs": [],
   "source": [
    "df_drivers.drop(cols,inplace=True,axis=1)"
   ]
  },
  {
   "cell_type": "code",
   "execution_count": 20,
   "metadata": {},
   "outputs": [
    {
     "name": "stdout",
     "output_type": "stream",
     "text": [
      "<class 'pandas.core.frame.DataFrame'>\n",
      "RangeIndex: 1557740 entries, 0 to 1557739\n",
      "Data columns (total 6 columns):\n",
      " #   Column         Non-Null Count    Dtype  \n",
      "---  ------         --------------    -----  \n",
      " 0   id             1557740 non-null  int64  \n",
      " 1   order_id       1557740 non-null  int64  \n",
      " 2   driver_id      1557740 non-null  int64  \n",
      " 3   driver_action  1557740 non-null  object \n",
      " 4   lat            1557740 non-null  float64\n",
      " 5   lng            1557740 non-null  float64\n",
      "dtypes: float64(2), int64(3), object(1)\n",
      "memory usage: 71.3+ MB\n"
     ]
    }
   ],
   "source": [
    "df_drivers.info()"
   ]
  },
  {
   "cell_type": "markdown",
   "metadata": {},
   "source": [
    "Merge df_orders and df_drivers on their common column trip_id and order_id respectively"
   ]
  },
  {
   "cell_type": "code",
   "execution_count": 21,
   "metadata": {},
   "outputs": [
    {
     "data": {
      "text/html": [
       "<div>\n",
       "<style scoped>\n",
       "    .dataframe tbody tr th:only-of-type {\n",
       "        vertical-align: middle;\n",
       "    }\n",
       "\n",
       "    .dataframe tbody tr th {\n",
       "        vertical-align: top;\n",
       "    }\n",
       "\n",
       "    .dataframe thead th {\n",
       "        text-align: right;\n",
       "    }\n",
       "</style>\n",
       "<table border=\"1\" class=\"dataframe\">\n",
       "  <thead>\n",
       "    <tr style=\"text-align: right;\">\n",
       "      <th></th>\n",
       "      <th>id</th>\n",
       "      <th>order_id</th>\n",
       "      <th>driver_id</th>\n",
       "      <th>driver_action</th>\n",
       "      <th>lat</th>\n",
       "      <th>lng</th>\n",
       "      <th>trip_id</th>\n",
       "      <th>trip_origin</th>\n",
       "      <th>trip_destination</th>\n",
       "      <th>trip_start_time</th>\n",
       "      <th>trip_end_time</th>\n",
       "      <th>trip_origin_lat</th>\n",
       "      <th>trip_origin_long</th>\n",
       "      <th>trip_destn_lat</th>\n",
       "      <th>trip_destn_long</th>\n",
       "      <th>trip_distance</th>\n",
       "    </tr>\n",
       "  </thead>\n",
       "  <tbody>\n",
       "    <tr>\n",
       "      <th>0</th>\n",
       "      <td>1</td>\n",
       "      <td>392001</td>\n",
       "      <td>243828</td>\n",
       "      <td>accepted</td>\n",
       "      <td>6.602207</td>\n",
       "      <td>3.270465</td>\n",
       "      <td>392001</td>\n",
       "      <td>6.6010417,3.2766339</td>\n",
       "      <td>6.4501069,3.3916154</td>\n",
       "      <td>2021-07-01 09:30:59</td>\n",
       "      <td>2021-07-01 09:34:36</td>\n",
       "      <td>6.6010417</td>\n",
       "      <td>3.2766339</td>\n",
       "      <td>6.4501069</td>\n",
       "      <td>3.3916154</td>\n",
       "      <td>20.984319</td>\n",
       "    </tr>\n",
       "    <tr>\n",
       "      <th>1</th>\n",
       "      <td>2</td>\n",
       "      <td>392001</td>\n",
       "      <td>243588</td>\n",
       "      <td>rejected</td>\n",
       "      <td>6.592097</td>\n",
       "      <td>3.287445</td>\n",
       "      <td>392001</td>\n",
       "      <td>6.6010417,3.2766339</td>\n",
       "      <td>6.4501069,3.3916154</td>\n",
       "      <td>2021-07-01 09:30:59</td>\n",
       "      <td>2021-07-01 09:34:36</td>\n",
       "      <td>6.6010417</td>\n",
       "      <td>3.2766339</td>\n",
       "      <td>6.4501069</td>\n",
       "      <td>3.3916154</td>\n",
       "      <td>20.984319</td>\n",
       "    </tr>\n",
       "    <tr>\n",
       "      <th>2</th>\n",
       "      <td>3</td>\n",
       "      <td>392001</td>\n",
       "      <td>243830</td>\n",
       "      <td>rejected</td>\n",
       "      <td>6.596133</td>\n",
       "      <td>3.281784</td>\n",
       "      <td>392001</td>\n",
       "      <td>6.6010417,3.2766339</td>\n",
       "      <td>6.4501069,3.3916154</td>\n",
       "      <td>2021-07-01 09:30:59</td>\n",
       "      <td>2021-07-01 09:34:36</td>\n",
       "      <td>6.6010417</td>\n",
       "      <td>3.2766339</td>\n",
       "      <td>6.4501069</td>\n",
       "      <td>3.3916154</td>\n",
       "      <td>20.984319</td>\n",
       "    </tr>\n",
       "    <tr>\n",
       "      <th>3</th>\n",
       "      <td>4</td>\n",
       "      <td>392001</td>\n",
       "      <td>243539</td>\n",
       "      <td>rejected</td>\n",
       "      <td>6.596142</td>\n",
       "      <td>3.280526</td>\n",
       "      <td>392001</td>\n",
       "      <td>6.6010417,3.2766339</td>\n",
       "      <td>6.4501069,3.3916154</td>\n",
       "      <td>2021-07-01 09:30:59</td>\n",
       "      <td>2021-07-01 09:34:36</td>\n",
       "      <td>6.6010417</td>\n",
       "      <td>3.2766339</td>\n",
       "      <td>6.4501069</td>\n",
       "      <td>3.3916154</td>\n",
       "      <td>20.984319</td>\n",
       "    </tr>\n",
       "    <tr>\n",
       "      <th>4</th>\n",
       "      <td>5</td>\n",
       "      <td>392001</td>\n",
       "      <td>171653</td>\n",
       "      <td>rejected</td>\n",
       "      <td>6.609232</td>\n",
       "      <td>3.288800</td>\n",
       "      <td>392001</td>\n",
       "      <td>6.6010417,3.2766339</td>\n",
       "      <td>6.4501069,3.3916154</td>\n",
       "      <td>2021-07-01 09:30:59</td>\n",
       "      <td>2021-07-01 09:34:36</td>\n",
       "      <td>6.6010417</td>\n",
       "      <td>3.2766339</td>\n",
       "      <td>6.4501069</td>\n",
       "      <td>3.3916154</td>\n",
       "      <td>20.984319</td>\n",
       "    </tr>\n",
       "  </tbody>\n",
       "</table>\n",
       "</div>"
      ],
      "text/plain": [
       "   id  order_id  driver_id driver_action       lat       lng  trip_id  \\\n",
       "0   1    392001     243828      accepted  6.602207  3.270465   392001   \n",
       "1   2    392001     243588      rejected  6.592097  3.287445   392001   \n",
       "2   3    392001     243830      rejected  6.596133  3.281784   392001   \n",
       "3   4    392001     243539      rejected  6.596142  3.280526   392001   \n",
       "4   5    392001     171653      rejected  6.609232  3.288800   392001   \n",
       "\n",
       "           trip_origin     trip_destination      trip_start_time  \\\n",
       "0  6.6010417,3.2766339  6.4501069,3.3916154  2021-07-01 09:30:59   \n",
       "1  6.6010417,3.2766339  6.4501069,3.3916154  2021-07-01 09:30:59   \n",
       "2  6.6010417,3.2766339  6.4501069,3.3916154  2021-07-01 09:30:59   \n",
       "3  6.6010417,3.2766339  6.4501069,3.3916154  2021-07-01 09:30:59   \n",
       "4  6.6010417,3.2766339  6.4501069,3.3916154  2021-07-01 09:30:59   \n",
       "\n",
       "         trip_end_time trip_origin_lat trip_origin_long trip_destn_lat  \\\n",
       "0  2021-07-01 09:34:36       6.6010417        3.2766339      6.4501069   \n",
       "1  2021-07-01 09:34:36       6.6010417        3.2766339      6.4501069   \n",
       "2  2021-07-01 09:34:36       6.6010417        3.2766339      6.4501069   \n",
       "3  2021-07-01 09:34:36       6.6010417        3.2766339      6.4501069   \n",
       "4  2021-07-01 09:34:36       6.6010417        3.2766339      6.4501069   \n",
       "\n",
       "  trip_destn_long  trip_distance  \n",
       "0       3.3916154      20.984319  \n",
       "1       3.3916154      20.984319  \n",
       "2       3.3916154      20.984319  \n",
       "3       3.3916154      20.984319  \n",
       "4       3.3916154      20.984319  "
      ]
     },
     "execution_count": 21,
     "metadata": {},
     "output_type": "execute_result"
    }
   ],
   "source": [
    "merge_df = df_drivers.merge(df_orders, how='inner', left_on='order_id',right_on=\"trip_id\")\n",
    "merge_df.head()"
   ]
  },
  {
   "cell_type": "code",
   "execution_count": 22,
   "metadata": {},
   "outputs": [
    {
     "data": {
      "text/plain": [
       "id                    int64\n",
       "order_id              int64\n",
       "driver_id             int64\n",
       "driver_action        object\n",
       "lat                 float64\n",
       "lng                 float64\n",
       "trip_id               int64\n",
       "trip_origin          object\n",
       "trip_destination     object\n",
       "trip_start_time      object\n",
       "trip_end_time        object\n",
       "trip_origin_lat      object\n",
       "trip_origin_long     object\n",
       "trip_destn_lat       object\n",
       "trip_destn_long      object\n",
       "trip_distance       float64\n",
       "dtype: object"
      ]
     },
     "execution_count": 22,
     "metadata": {},
     "output_type": "execute_result"
    }
   ],
   "source": [
    "merge_df.dtypes"
   ]
  },
  {
   "cell_type": "code",
   "execution_count": 23,
   "metadata": {},
   "outputs": [],
   "source": [
    "UTIL = Helper()"
   ]
  },
  {
   "cell_type": "code",
   "execution_count": 24,
   "metadata": {},
   "outputs": [],
   "source": [
    "def convert_to_numeric(df,cols):\n",
    "    for col in cols:\n",
    "        df[col] = pd.to_numeric(df[col])\n",
    "    return df"
   ]
  },
  {
   "cell_type": "code",
   "execution_count": 25,
   "metadata": {},
   "outputs": [],
   "source": [
    "# convert object typee columns to numeric\n",
    "cols = ['trip_origin_lat','trip_origin_long','trip_destn_lat','trip_destn_long'] \n",
    "merge_df = convert_to_numeric(merge_df,cols)"
   ]
  },
  {
   "cell_type": "code",
   "execution_count": 26,
   "metadata": {},
   "outputs": [
    {
     "name": "stdout",
     "output_type": "stream",
     "text": [
      "<class 'pandas.core.frame.DataFrame'>\n",
      "Int64Index: 1557740 entries, 0 to 1557739\n",
      "Data columns (total 16 columns):\n",
      " #   Column            Non-Null Count    Dtype  \n",
      "---  ------            --------------    -----  \n",
      " 0   id                1557740 non-null  int64  \n",
      " 1   order_id          1557740 non-null  int64  \n",
      " 2   driver_id         1557740 non-null  int64  \n",
      " 3   driver_action     1557740 non-null  object \n",
      " 4   lat               1557740 non-null  float64\n",
      " 5   lng               1557740 non-null  float64\n",
      " 6   trip_id           1557740 non-null  int64  \n",
      " 7   trip_origin       1557740 non-null  object \n",
      " 8   trip_destination  1557740 non-null  object \n",
      " 9   trip_start_time   1555718 non-null  object \n",
      " 10  trip_end_time     1557740 non-null  object \n",
      " 11  trip_origin_lat   1557740 non-null  float64\n",
      " 12  trip_origin_long  1557740 non-null  float64\n",
      " 13  trip_destn_lat    1557740 non-null  float64\n",
      " 14  trip_destn_long   1557740 non-null  float64\n",
      " 15  trip_distance     1557740 non-null  float64\n",
      "dtypes: float64(7), int64(4), object(5)\n",
      "memory usage: 202.0+ MB\n"
     ]
    }
   ],
   "source": [
    "merge_df.info()"
   ]
  },
  {
   "cell_type": "code",
   "execution_count": 27,
   "metadata": {},
   "outputs": [
    {
     "data": {
      "text/plain": [
       "id                           int64\n",
       "order_id                     int64\n",
       "driver_id                    int64\n",
       "driver_action               object\n",
       "lat                        float64\n",
       "lng                        float64\n",
       "trip_id                      int64\n",
       "trip_origin                 object\n",
       "trip_destination            object\n",
       "trip_start_time     datetime64[ns]\n",
       "trip_end_time       datetime64[ns]\n",
       "trip_origin_lat            float64\n",
       "trip_origin_long           float64\n",
       "trip_destn_lat             float64\n",
       "trip_destn_long            float64\n",
       "trip_distance              float64\n",
       "dtype: object"
      ]
     },
     "execution_count": 27,
     "metadata": {},
     "output_type": "execute_result"
    }
   ],
   "source": [
    "#convert to datetime\n",
    "\n",
    "merge_df['trip_start_time'] = pd.to_datetime(merge_df['trip_start_time'])\n",
    "merge_df['trip_end_time'] = pd.to_datetime(merge_df['trip_end_time'])\n",
    "merge_df.dtypes"
   ]
  },
  {
   "cell_type": "code",
   "execution_count": 28,
   "metadata": {},
   "outputs": [],
   "source": [
    "merge_df.drop(['trip_origin', 'trip_destination'], axis=1, inplace=True)"
   ]
  },
  {
   "cell_type": "code",
   "execution_count": 39,
   "metadata": {},
   "outputs": [],
   "source": [
    "# Find trip Duration \n",
    "from datetime import datetime,timedelta,date\n",
    "merge_df['trip_duration'] = (merge_df['trip_end_time'] - merge_df['trip_start_time']).astype('timedelta64[m]')\n",
    "# minutes=[]\n",
    "# for i in merge_df['trip_duration']:\n",
    "#     minutes.append(i.seconds / 60)\n",
    "# merge_df['trip_duration'] = minutes"
   ]
  },
  {
   "cell_type": "code",
   "execution_count": 41,
   "metadata": {},
   "outputs": [
    {
     "data": {
      "text/html": [
       "<div>\n",
       "<style scoped>\n",
       "    .dataframe tbody tr th:only-of-type {\n",
       "        vertical-align: middle;\n",
       "    }\n",
       "\n",
       "    .dataframe tbody tr th {\n",
       "        vertical-align: top;\n",
       "    }\n",
       "\n",
       "    .dataframe thead th {\n",
       "        text-align: right;\n",
       "    }\n",
       "</style>\n",
       "<table border=\"1\" class=\"dataframe\">\n",
       "  <thead>\n",
       "    <tr style=\"text-align: right;\">\n",
       "      <th></th>\n",
       "      <th>id</th>\n",
       "      <th>order_id</th>\n",
       "      <th>driver_id</th>\n",
       "      <th>driver_action</th>\n",
       "      <th>lat</th>\n",
       "      <th>lng</th>\n",
       "      <th>trip_id</th>\n",
       "      <th>trip_start_time</th>\n",
       "      <th>trip_end_time</th>\n",
       "      <th>trip_origin_lat</th>\n",
       "      <th>trip_origin_long</th>\n",
       "      <th>trip_destn_lat</th>\n",
       "      <th>trip_destn_long</th>\n",
       "      <th>trip_distance</th>\n",
       "      <th>trip_duration</th>\n",
       "      <th>year</th>\n",
       "      <th>month</th>\n",
       "      <th>day_of_week</th>\n",
       "    </tr>\n",
       "  </thead>\n",
       "  <tbody>\n",
       "    <tr>\n",
       "      <th>1557735</th>\n",
       "      <td>1557736</td>\n",
       "      <td>517948</td>\n",
       "      <td>243774</td>\n",
       "      <td>rejected</td>\n",
       "      <td>6.469036</td>\n",
       "      <td>3.566877</td>\n",
       "      <td>517948</td>\n",
       "      <td>2021-09-10 11:47:26</td>\n",
       "      <td>2021-09-10 13:30:13</td>\n",
       "      <td>6.443374</td>\n",
       "      <td>3.552312</td>\n",
       "      <td>6.500608</td>\n",
       "      <td>3.598194</td>\n",
       "      <td>8.112927</td>\n",
       "      <td>102.0</td>\n",
       "      <td>2021.0</td>\n",
       "      <td>9.0</td>\n",
       "      <td>Friday</td>\n",
       "    </tr>\n",
       "    <tr>\n",
       "      <th>1557736</th>\n",
       "      <td>1557737</td>\n",
       "      <td>517948</td>\n",
       "      <td>245447</td>\n",
       "      <td>rejected</td>\n",
       "      <td>6.425431</td>\n",
       "      <td>3.527358</td>\n",
       "      <td>517948</td>\n",
       "      <td>2021-09-10 11:47:26</td>\n",
       "      <td>2021-09-10 13:30:13</td>\n",
       "      <td>6.443374</td>\n",
       "      <td>3.552312</td>\n",
       "      <td>6.500608</td>\n",
       "      <td>3.598194</td>\n",
       "      <td>8.112927</td>\n",
       "      <td>102.0</td>\n",
       "      <td>2021.0</td>\n",
       "      <td>9.0</td>\n",
       "      <td>Friday</td>\n",
       "    </tr>\n",
       "    <tr>\n",
       "      <th>1557737</th>\n",
       "      <td>1557738</td>\n",
       "      <td>517948</td>\n",
       "      <td>239866</td>\n",
       "      <td>rejected</td>\n",
       "      <td>6.440013</td>\n",
       "      <td>3.525378</td>\n",
       "      <td>517948</td>\n",
       "      <td>2021-09-10 11:47:26</td>\n",
       "      <td>2021-09-10 13:30:13</td>\n",
       "      <td>6.443374</td>\n",
       "      <td>3.552312</td>\n",
       "      <td>6.500608</td>\n",
       "      <td>3.598194</td>\n",
       "      <td>8.112927</td>\n",
       "      <td>102.0</td>\n",
       "      <td>2021.0</td>\n",
       "      <td>9.0</td>\n",
       "      <td>Friday</td>\n",
       "    </tr>\n",
       "    <tr>\n",
       "      <th>1557738</th>\n",
       "      <td>1557739</td>\n",
       "      <td>517948</td>\n",
       "      <td>243774</td>\n",
       "      <td>rejected</td>\n",
       "      <td>6.469036</td>\n",
       "      <td>3.566877</td>\n",
       "      <td>517948</td>\n",
       "      <td>2021-09-10 11:47:26</td>\n",
       "      <td>2021-09-10 13:30:13</td>\n",
       "      <td>6.443374</td>\n",
       "      <td>3.552312</td>\n",
       "      <td>6.500608</td>\n",
       "      <td>3.598194</td>\n",
       "      <td>8.112927</td>\n",
       "      <td>102.0</td>\n",
       "      <td>2021.0</td>\n",
       "      <td>9.0</td>\n",
       "      <td>Friday</td>\n",
       "    </tr>\n",
       "    <tr>\n",
       "      <th>1557739</th>\n",
       "      <td>1557740</td>\n",
       "      <td>517948</td>\n",
       "      <td>244170</td>\n",
       "      <td>rejected</td>\n",
       "      <td>6.469390</td>\n",
       "      <td>3.572079</td>\n",
       "      <td>517948</td>\n",
       "      <td>2021-09-10 11:47:26</td>\n",
       "      <td>2021-09-10 13:30:13</td>\n",
       "      <td>6.443374</td>\n",
       "      <td>3.552312</td>\n",
       "      <td>6.500608</td>\n",
       "      <td>3.598194</td>\n",
       "      <td>8.112927</td>\n",
       "      <td>102.0</td>\n",
       "      <td>2021.0</td>\n",
       "      <td>9.0</td>\n",
       "      <td>Friday</td>\n",
       "    </tr>\n",
       "  </tbody>\n",
       "</table>\n",
       "</div>"
      ],
      "text/plain": [
       "              id  order_id  driver_id driver_action       lat       lng  \\\n",
       "1557735  1557736    517948     243774      rejected  6.469036  3.566877   \n",
       "1557736  1557737    517948     245447      rejected  6.425431  3.527358   \n",
       "1557737  1557738    517948     239866      rejected  6.440013  3.525378   \n",
       "1557738  1557739    517948     243774      rejected  6.469036  3.566877   \n",
       "1557739  1557740    517948     244170      rejected  6.469390  3.572079   \n",
       "\n",
       "         trip_id     trip_start_time       trip_end_time  trip_origin_lat  \\\n",
       "1557735   517948 2021-09-10 11:47:26 2021-09-10 13:30:13         6.443374   \n",
       "1557736   517948 2021-09-10 11:47:26 2021-09-10 13:30:13         6.443374   \n",
       "1557737   517948 2021-09-10 11:47:26 2021-09-10 13:30:13         6.443374   \n",
       "1557738   517948 2021-09-10 11:47:26 2021-09-10 13:30:13         6.443374   \n",
       "1557739   517948 2021-09-10 11:47:26 2021-09-10 13:30:13         6.443374   \n",
       "\n",
       "         trip_origin_long  trip_destn_lat  trip_destn_long  trip_distance  \\\n",
       "1557735          3.552312        6.500608         3.598194       8.112927   \n",
       "1557736          3.552312        6.500608         3.598194       8.112927   \n",
       "1557737          3.552312        6.500608         3.598194       8.112927   \n",
       "1557738          3.552312        6.500608         3.598194       8.112927   \n",
       "1557739          3.552312        6.500608         3.598194       8.112927   \n",
       "\n",
       "         trip_duration    year  month day_of_week  \n",
       "1557735          102.0  2021.0    9.0      Friday  \n",
       "1557736          102.0  2021.0    9.0      Friday  \n",
       "1557737          102.0  2021.0    9.0      Friday  \n",
       "1557738          102.0  2021.0    9.0      Friday  \n",
       "1557739          102.0  2021.0    9.0      Friday  "
      ]
     },
     "execution_count": 41,
     "metadata": {},
     "output_type": "execute_result"
    }
   ],
   "source": [
    "merge_df.tail()"
   ]
  },
  {
   "cell_type": "code",
   "execution_count": 31,
   "metadata": {},
   "outputs": [
    {
     "data": {
      "text/plain": [
       "1427.9333333333334"
      ]
     },
     "execution_count": 31,
     "metadata": {},
     "output_type": "execute_result"
    }
   ],
   "source": [
    "merge_df['trip_duration'].max()"
   ]
  },
  {
   "cell_type": "code",
   "execution_count": 32,
   "metadata": {},
   "outputs": [
    {
     "data": {
      "text/html": [
       "<div>\n",
       "<style scoped>\n",
       "    .dataframe tbody tr th:only-of-type {\n",
       "        vertical-align: middle;\n",
       "    }\n",
       "\n",
       "    .dataframe tbody tr th {\n",
       "        vertical-align: top;\n",
       "    }\n",
       "\n",
       "    .dataframe thead th {\n",
       "        text-align: right;\n",
       "    }\n",
       "</style>\n",
       "<table border=\"1\" class=\"dataframe\">\n",
       "  <thead>\n",
       "    <tr style=\"text-align: right;\">\n",
       "      <th></th>\n",
       "      <th>id</th>\n",
       "      <th>order_id</th>\n",
       "      <th>driver_id</th>\n",
       "      <th>driver_action</th>\n",
       "      <th>lat</th>\n",
       "      <th>lng</th>\n",
       "      <th>trip_id</th>\n",
       "      <th>trip_start_time</th>\n",
       "      <th>trip_end_time</th>\n",
       "      <th>trip_origin_lat</th>\n",
       "      <th>trip_origin_long</th>\n",
       "      <th>trip_destn_lat</th>\n",
       "      <th>trip_destn_long</th>\n",
       "      <th>trip_distance</th>\n",
       "      <th>trip_duration</th>\n",
       "      <th>year</th>\n",
       "      <th>month</th>\n",
       "      <th>day_of_week</th>\n",
       "    </tr>\n",
       "  </thead>\n",
       "  <tbody>\n",
       "    <tr>\n",
       "      <th>0</th>\n",
       "      <td>1</td>\n",
       "      <td>392001</td>\n",
       "      <td>243828</td>\n",
       "      <td>accepted</td>\n",
       "      <td>6.602207</td>\n",
       "      <td>3.270465</td>\n",
       "      <td>392001</td>\n",
       "      <td>2021-07-01 09:30:59</td>\n",
       "      <td>2021-07-01 09:34:36</td>\n",
       "      <td>6.601042</td>\n",
       "      <td>3.276634</td>\n",
       "      <td>6.450107</td>\n",
       "      <td>3.391615</td>\n",
       "      <td>20.984319</td>\n",
       "      <td>3.616667</td>\n",
       "      <td>2021.0</td>\n",
       "      <td>7.0</td>\n",
       "      <td>Thursday</td>\n",
       "    </tr>\n",
       "    <tr>\n",
       "      <th>1</th>\n",
       "      <td>2</td>\n",
       "      <td>392001</td>\n",
       "      <td>243588</td>\n",
       "      <td>rejected</td>\n",
       "      <td>6.592097</td>\n",
       "      <td>3.287445</td>\n",
       "      <td>392001</td>\n",
       "      <td>2021-07-01 09:30:59</td>\n",
       "      <td>2021-07-01 09:34:36</td>\n",
       "      <td>6.601042</td>\n",
       "      <td>3.276634</td>\n",
       "      <td>6.450107</td>\n",
       "      <td>3.391615</td>\n",
       "      <td>20.984319</td>\n",
       "      <td>3.616667</td>\n",
       "      <td>2021.0</td>\n",
       "      <td>7.0</td>\n",
       "      <td>Thursday</td>\n",
       "    </tr>\n",
       "    <tr>\n",
       "      <th>2</th>\n",
       "      <td>3</td>\n",
       "      <td>392001</td>\n",
       "      <td>243830</td>\n",
       "      <td>rejected</td>\n",
       "      <td>6.596133</td>\n",
       "      <td>3.281784</td>\n",
       "      <td>392001</td>\n",
       "      <td>2021-07-01 09:30:59</td>\n",
       "      <td>2021-07-01 09:34:36</td>\n",
       "      <td>6.601042</td>\n",
       "      <td>3.276634</td>\n",
       "      <td>6.450107</td>\n",
       "      <td>3.391615</td>\n",
       "      <td>20.984319</td>\n",
       "      <td>3.616667</td>\n",
       "      <td>2021.0</td>\n",
       "      <td>7.0</td>\n",
       "      <td>Thursday</td>\n",
       "    </tr>\n",
       "    <tr>\n",
       "      <th>3</th>\n",
       "      <td>4</td>\n",
       "      <td>392001</td>\n",
       "      <td>243539</td>\n",
       "      <td>rejected</td>\n",
       "      <td>6.596142</td>\n",
       "      <td>3.280526</td>\n",
       "      <td>392001</td>\n",
       "      <td>2021-07-01 09:30:59</td>\n",
       "      <td>2021-07-01 09:34:36</td>\n",
       "      <td>6.601042</td>\n",
       "      <td>3.276634</td>\n",
       "      <td>6.450107</td>\n",
       "      <td>3.391615</td>\n",
       "      <td>20.984319</td>\n",
       "      <td>3.616667</td>\n",
       "      <td>2021.0</td>\n",
       "      <td>7.0</td>\n",
       "      <td>Thursday</td>\n",
       "    </tr>\n",
       "    <tr>\n",
       "      <th>4</th>\n",
       "      <td>5</td>\n",
       "      <td>392001</td>\n",
       "      <td>171653</td>\n",
       "      <td>rejected</td>\n",
       "      <td>6.609232</td>\n",
       "      <td>3.288800</td>\n",
       "      <td>392001</td>\n",
       "      <td>2021-07-01 09:30:59</td>\n",
       "      <td>2021-07-01 09:34:36</td>\n",
       "      <td>6.601042</td>\n",
       "      <td>3.276634</td>\n",
       "      <td>6.450107</td>\n",
       "      <td>3.391615</td>\n",
       "      <td>20.984319</td>\n",
       "      <td>3.616667</td>\n",
       "      <td>2021.0</td>\n",
       "      <td>7.0</td>\n",
       "      <td>Thursday</td>\n",
       "    </tr>\n",
       "  </tbody>\n",
       "</table>\n",
       "</div>"
      ],
      "text/plain": [
       "   id  order_id  driver_id driver_action       lat       lng  trip_id  \\\n",
       "0   1    392001     243828      accepted  6.602207  3.270465   392001   \n",
       "1   2    392001     243588      rejected  6.592097  3.287445   392001   \n",
       "2   3    392001     243830      rejected  6.596133  3.281784   392001   \n",
       "3   4    392001     243539      rejected  6.596142  3.280526   392001   \n",
       "4   5    392001     171653      rejected  6.609232  3.288800   392001   \n",
       "\n",
       "      trip_start_time       trip_end_time  trip_origin_lat  trip_origin_long  \\\n",
       "0 2021-07-01 09:30:59 2021-07-01 09:34:36         6.601042          3.276634   \n",
       "1 2021-07-01 09:30:59 2021-07-01 09:34:36         6.601042          3.276634   \n",
       "2 2021-07-01 09:30:59 2021-07-01 09:34:36         6.601042          3.276634   \n",
       "3 2021-07-01 09:30:59 2021-07-01 09:34:36         6.601042          3.276634   \n",
       "4 2021-07-01 09:30:59 2021-07-01 09:34:36         6.601042          3.276634   \n",
       "\n",
       "   trip_destn_lat  trip_destn_long  trip_distance  trip_duration    year  \\\n",
       "0        6.450107         3.391615      20.984319       3.616667  2021.0   \n",
       "1        6.450107         3.391615      20.984319       3.616667  2021.0   \n",
       "2        6.450107         3.391615      20.984319       3.616667  2021.0   \n",
       "3        6.450107         3.391615      20.984319       3.616667  2021.0   \n",
       "4        6.450107         3.391615      20.984319       3.616667  2021.0   \n",
       "\n",
       "   month day_of_week  \n",
       "0    7.0    Thursday  \n",
       "1    7.0    Thursday  \n",
       "2    7.0    Thursday  \n",
       "3    7.0    Thursday  \n",
       "4    7.0    Thursday  "
      ]
     },
     "execution_count": 32,
     "metadata": {},
     "output_type": "execute_result"
    }
   ],
   "source": [
    "# extract year, month and day of week\n",
    "merge_df['year'] = pd.DatetimeIndex(merge_df['trip_start_time']).year\n",
    "merge_df['month'] = pd.DatetimeIndex(merge_df['trip_start_time']).month\n",
    "merge_df['day_of_week'] = merge_df['trip_start_time'].dt.day_name()\n",
    "# merge_df.month = pd.to_datetime(merge_df.month)\n",
    "merge_df.head()"
   ]
  },
  {
   "cell_type": "code",
   "execution_count": 33,
   "metadata": {},
   "outputs": [
    {
     "data": {
      "text/html": [
       "<style type=\"text/css\">\n",
       "#T_27da8_row0_col1 {\n",
       "  width: 10em;\n",
       "  background: linear-gradient(90deg, #205ff2 100.0%, transparent 100.0%);\n",
       "}\n",
       "#T_27da8_row0_col2 {\n",
       "  background-color: #67000d;\n",
       "  color: #f1f1f1;\n",
       "}\n",
       "#T_27da8_row0_col5 {\n",
       "  background-color: #b40426;\n",
       "  color: #f1f1f1;\n",
       "}\n",
       "#T_27da8_row1_col1, #T_27da8_row5_col1 {\n",
       "  width: 10em;\n",
       "  background: linear-gradient(90deg, #205ff2 53.8%, transparent 53.8%);\n",
       "}\n",
       "#T_27da8_row1_col2, #T_27da8_row5_col2 {\n",
       "  background-color: #fff0e8;\n",
       "  color: #000000;\n",
       "}\n",
       "#T_27da8_row1_col5, #T_27da8_row5_col5 {\n",
       "  background-color: #e7d7ce;\n",
       "  color: #000000;\n",
       "}\n",
       "#T_27da8_row2_col1 {\n",
       "  width: 10em;\n",
       "  background: linear-gradient(90deg, #205ff2 30.1%, transparent 30.1%);\n",
       "}\n",
       "#T_27da8_row2_col2 {\n",
       "  background-color: #ffede5;\n",
       "  color: #000000;\n",
       "}\n",
       "#T_27da8_row2_col5 {\n",
       "  background-color: #a3c2fe;\n",
       "  color: #000000;\n",
       "}\n",
       "#T_27da8_row3_col1, #T_27da8_row4_col1, #T_27da8_row6_col1, #T_27da8_row7_col1, #T_27da8_row8_col1, #T_27da8_row9_col1, #T_27da8_row10_col1, #T_27da8_row11_col1, #T_27da8_row13_col1 {\n",
       "  width: 10em;\n",
       "  background: linear-gradient(90deg, #205ff2 0.0%, transparent 0.0%);\n",
       "}\n",
       "#T_27da8_row3_col2, #T_27da8_row4_col2, #T_27da8_row6_col2, #T_27da8_row7_col2, #T_27da8_row8_col2, #T_27da8_row9_col2, #T_27da8_row10_col2, #T_27da8_row11_col2, #T_27da8_row12_col2, #T_27da8_row13_col2 {\n",
       "  background-color: #fff5f0;\n",
       "  color: #000000;\n",
       "}\n",
       "#T_27da8_row3_col5, #T_27da8_row4_col5, #T_27da8_row6_col5, #T_27da8_row7_col5, #T_27da8_row8_col5, #T_27da8_row9_col5, #T_27da8_row10_col5, #T_27da8_row11_col5, #T_27da8_row12_col5, #T_27da8_row13_col5 {\n",
       "  background-color: #3b4cc0;\n",
       "  color: #f1f1f1;\n",
       "}\n",
       "#T_27da8_row12_col1 {\n",
       "  width: 10em;\n",
       "  background: linear-gradient(90deg, #205ff2 0.3%, transparent 0.3%);\n",
       "}\n",
       "</style>\n",
       "<table id=\"T_27da8\">\n",
       "  <thead>\n",
       "    <tr>\n",
       "      <th class=\"blank level0\" >&nbsp;</th>\n",
       "      <th id=\"T_27da8_level0_col0\" class=\"col_heading level0 col0\" >count</th>\n",
       "      <th id=\"T_27da8_level0_col1\" class=\"col_heading level0 col1\" >mean</th>\n",
       "      <th id=\"T_27da8_level0_col2\" class=\"col_heading level0 col2\" >std</th>\n",
       "      <th id=\"T_27da8_level0_col3\" class=\"col_heading level0 col3\" >min</th>\n",
       "      <th id=\"T_27da8_level0_col4\" class=\"col_heading level0 col4\" >25%</th>\n",
       "      <th id=\"T_27da8_level0_col5\" class=\"col_heading level0 col5\" >50%</th>\n",
       "      <th id=\"T_27da8_level0_col6\" class=\"col_heading level0 col6\" >75%</th>\n",
       "      <th id=\"T_27da8_level0_col7\" class=\"col_heading level0 col7\" >max</th>\n",
       "    </tr>\n",
       "  </thead>\n",
       "  <tbody>\n",
       "    <tr>\n",
       "      <th id=\"T_27da8_level0_row0\" class=\"row_heading level0 row0\" >id</th>\n",
       "      <td id=\"T_27da8_row0_col0\" class=\"data row0 col0\" >1557740.000000</td>\n",
       "      <td id=\"T_27da8_row0_col1\" class=\"data row0 col1\" >778870.500000</td>\n",
       "      <td id=\"T_27da8_row0_col2\" class=\"data row0 col2\" >449680.948501</td>\n",
       "      <td id=\"T_27da8_row0_col3\" class=\"data row0 col3\" >1.000000</td>\n",
       "      <td id=\"T_27da8_row0_col4\" class=\"data row0 col4\" >389435.750000</td>\n",
       "      <td id=\"T_27da8_row0_col5\" class=\"data row0 col5\" >778870.500000</td>\n",
       "      <td id=\"T_27da8_row0_col6\" class=\"data row0 col6\" >1168305.250000</td>\n",
       "      <td id=\"T_27da8_row0_col7\" class=\"data row0 col7\" >1557740.000000</td>\n",
       "    </tr>\n",
       "    <tr>\n",
       "      <th id=\"T_27da8_level0_row1\" class=\"row_heading level0 row1\" >order_id</th>\n",
       "      <td id=\"T_27da8_row1_col0\" class=\"data row1 col0\" >1557740.000000</td>\n",
       "      <td id=\"T_27da8_row1_col1\" class=\"data row1 col1\" >419183.325677</td>\n",
       "      <td id=\"T_27da8_row1_col2\" class=\"data row1 col2\" >14445.310018</td>\n",
       "      <td id=\"T_27da8_row1_col3\" class=\"data row1 col3\" >392001.000000</td>\n",
       "      <td id=\"T_27da8_row1_col4\" class=\"data row1 col4\" >406765.000000</td>\n",
       "      <td id=\"T_27da8_row1_col5\" class=\"data row1 col5\" >421687.000000</td>\n",
       "      <td id=\"T_27da8_row1_col6\" class=\"data row1 col6\" >429313.000000</td>\n",
       "      <td id=\"T_27da8_row1_col7\" class=\"data row1 col7\" >517948.000000</td>\n",
       "    </tr>\n",
       "    <tr>\n",
       "      <th id=\"T_27da8_level0_row2\" class=\"row_heading level0 row2\" >driver_id</th>\n",
       "      <td id=\"T_27da8_row2_col0\" class=\"data row2 col0\" >1557740.000000</td>\n",
       "      <td id=\"T_27da8_row2_col1\" class=\"data row2 col1\" >234150.494470</td>\n",
       "      <td id=\"T_27da8_row2_col2\" class=\"data row2 col2\" >22704.754768</td>\n",
       "      <td id=\"T_27da8_row2_col3\" class=\"data row2 col3\" >121981.000000</td>\n",
       "      <td id=\"T_27da8_row2_col4\" class=\"data row2 col4\" >242997.000000</td>\n",
       "      <td id=\"T_27da8_row2_col5\" class=\"data row2 col5\" >243589.000000</td>\n",
       "      <td id=\"T_27da8_row2_col6\" class=\"data row2 col6\" >244056.000000</td>\n",
       "      <td id=\"T_27da8_row2_col7\" class=\"data row2 col7\" >247877.000000</td>\n",
       "    </tr>\n",
       "    <tr>\n",
       "      <th id=\"T_27da8_level0_row3\" class=\"row_heading level0 row3\" >lat</th>\n",
       "      <td id=\"T_27da8_row3_col0\" class=\"data row3 col0\" >1557740.000000</td>\n",
       "      <td id=\"T_27da8_row3_col1\" class=\"data row3 col1\" >6.536031</td>\n",
       "      <td id=\"T_27da8_row3_col2\" class=\"data row3 col2\" >0.059981</td>\n",
       "      <td id=\"T_27da8_row3_col3\" class=\"data row3 col3\" >6.409333</td>\n",
       "      <td id=\"T_27da8_row3_col4\" class=\"data row3 col4\" >6.498694</td>\n",
       "      <td id=\"T_27da8_row3_col5\" class=\"data row3 col5\" >6.544247</td>\n",
       "      <td id=\"T_27da8_row3_col6\" class=\"data row3 col6\" >6.593276</td>\n",
       "      <td id=\"T_27da8_row3_col7\" class=\"data row3 col7\" >7.702536</td>\n",
       "    </tr>\n",
       "    <tr>\n",
       "      <th id=\"T_27da8_level0_row4\" class=\"row_heading level0 row4\" >lng</th>\n",
       "      <td id=\"T_27da8_row4_col0\" class=\"data row4 col0\" >1557740.000000</td>\n",
       "      <td id=\"T_27da8_row4_col1\" class=\"data row4 col1\" >3.378877</td>\n",
       "      <td id=\"T_27da8_row4_col2\" class=\"data row4 col2\" >0.053334</td>\n",
       "      <td id=\"T_27da8_row4_col3\" class=\"data row4 col3\" >3.076561</td>\n",
       "      <td id=\"T_27da8_row4_col4\" class=\"data row4 col4\" >3.348810</td>\n",
       "      <td id=\"T_27da8_row4_col5\" class=\"data row4 col5\" >3.363504</td>\n",
       "      <td id=\"T_27da8_row4_col6\" class=\"data row4 col6\" >3.385177</td>\n",
       "      <td id=\"T_27da8_row4_col7\" class=\"data row4 col7\" >8.515414</td>\n",
       "    </tr>\n",
       "    <tr>\n",
       "      <th id=\"T_27da8_level0_row5\" class=\"row_heading level0 row5\" >trip_id</th>\n",
       "      <td id=\"T_27da8_row5_col0\" class=\"data row5 col0\" >1557740.000000</td>\n",
       "      <td id=\"T_27da8_row5_col1\" class=\"data row5 col1\" >419183.325677</td>\n",
       "      <td id=\"T_27da8_row5_col2\" class=\"data row5 col2\" >14445.310018</td>\n",
       "      <td id=\"T_27da8_row5_col3\" class=\"data row5 col3\" >392001.000000</td>\n",
       "      <td id=\"T_27da8_row5_col4\" class=\"data row5 col4\" >406765.000000</td>\n",
       "      <td id=\"T_27da8_row5_col5\" class=\"data row5 col5\" >421687.000000</td>\n",
       "      <td id=\"T_27da8_row5_col6\" class=\"data row5 col6\" >429313.000000</td>\n",
       "      <td id=\"T_27da8_row5_col7\" class=\"data row5 col7\" >517948.000000</td>\n",
       "    </tr>\n",
       "    <tr>\n",
       "      <th id=\"T_27da8_level0_row6\" class=\"row_heading level0 row6\" >trip_origin_lat</th>\n",
       "      <td id=\"T_27da8_row6_col0\" class=\"data row6 col0\" >1557740.000000</td>\n",
       "      <td id=\"T_27da8_row6_col1\" class=\"data row6 col1\" >6.535614</td>\n",
       "      <td id=\"T_27da8_row6_col2\" class=\"data row6 col2\" >0.060291</td>\n",
       "      <td id=\"T_27da8_row6_col3\" class=\"data row6 col3\" >1.000000</td>\n",
       "      <td id=\"T_27da8_row6_col4\" class=\"data row6 col4\" >6.499041</td>\n",
       "      <td id=\"T_27da8_row6_col5\" class=\"data row6 col5\" >6.537571</td>\n",
       "      <td id=\"T_27da8_row6_col6\" class=\"data row6 col6\" >6.591357</td>\n",
       "      <td id=\"T_27da8_row6_col7\" class=\"data row6 col7\" >8.226835</td>\n",
       "    </tr>\n",
       "    <tr>\n",
       "      <th id=\"T_27da8_level0_row7\" class=\"row_heading level0 row7\" >trip_origin_long</th>\n",
       "      <td id=\"T_27da8_row7_col0\" class=\"data row7 col0\" >1557740.000000</td>\n",
       "      <td id=\"T_27da8_row7_col1\" class=\"data row7 col1\" >3.380084</td>\n",
       "      <td id=\"T_27da8_row7_col2\" class=\"data row7 col2\" >0.052789</td>\n",
       "      <td id=\"T_27da8_row7_col3\" class=\"data row7 col3\" >1.000000</td>\n",
       "      <td id=\"T_27da8_row7_col4\" class=\"data row7 col4\" >3.350304</td>\n",
       "      <td id=\"T_27da8_row7_col5\" class=\"data row7 col5\" >3.368576</td>\n",
       "      <td id=\"T_27da8_row7_col6\" class=\"data row7 col6\" >3.387219</td>\n",
       "      <td id=\"T_27da8_row7_col7\" class=\"data row7 col7\" >8.522293</td>\n",
       "    </tr>\n",
       "    <tr>\n",
       "      <th id=\"T_27da8_level0_row8\" class=\"row_heading level0 row8\" >trip_destn_lat</th>\n",
       "      <td id=\"T_27da8_row8_col0\" class=\"data row8 col0\" >1557740.000000</td>\n",
       "      <td id=\"T_27da8_row8_col1\" class=\"data row8 col1\" >6.536080</td>\n",
       "      <td id=\"T_27da8_row8_col2\" class=\"data row8 col2\" >0.073118</td>\n",
       "      <td id=\"T_27da8_row8_col3\" class=\"data row8 col3\" >1.000000</td>\n",
       "      <td id=\"T_27da8_row8_col4\" class=\"data row8 col4\" >6.464907</td>\n",
       "      <td id=\"T_27da8_row8_col5\" class=\"data row8 col5\" >6.536754</td>\n",
       "      <td id=\"T_27da8_row8_col6\" class=\"data row8 col6\" >6.596440</td>\n",
       "      <td id=\"T_27da8_row8_col7\" class=\"data row8 col7\" >7.703160</td>\n",
       "    </tr>\n",
       "    <tr>\n",
       "      <th id=\"T_27da8_level0_row9\" class=\"row_heading level0 row9\" >trip_destn_long</th>\n",
       "      <td id=\"T_27da8_row9_col0\" class=\"data row9 col0\" >1557740.000000</td>\n",
       "      <td id=\"T_27da8_row9_col1\" class=\"data row9 col1\" >3.383548</td>\n",
       "      <td id=\"T_27da8_row9_col2\" class=\"data row9 col2\" >0.074875</td>\n",
       "      <td id=\"T_27da8_row9_col3\" class=\"data row9 col3\" >1.000000</td>\n",
       "      <td id=\"T_27da8_row9_col4\" class=\"data row9 col4\" >3.342753</td>\n",
       "      <td id=\"T_27da8_row9_col5\" class=\"data row9 col5\" >3.369833</td>\n",
       "      <td id=\"T_27da8_row9_col6\" class=\"data row9 col6\" >3.406349</td>\n",
       "      <td id=\"T_27da8_row9_col7\" class=\"data row9 col7\" >8.607887</td>\n",
       "    </tr>\n",
       "    <tr>\n",
       "      <th id=\"T_27da8_level0_row10\" class=\"row_heading level0 row10\" >trip_distance</th>\n",
       "      <td id=\"T_27da8_row10_col0\" class=\"data row10 col0\" >1557740.000000</td>\n",
       "      <td id=\"T_27da8_row10_col1\" class=\"data row10 col1\" >8.463774</td>\n",
       "      <td id=\"T_27da8_row10_col2\" class=\"data row10 col2\" >6.336044</td>\n",
       "      <td id=\"T_27da8_row10_col3\" class=\"data row10 col3\" >0.016387</td>\n",
       "      <td id=\"T_27da8_row10_col4\" class=\"data row10 col4\" >3.996194</td>\n",
       "      <td id=\"T_27da8_row10_col5\" class=\"data row10 col5\" >6.895317</td>\n",
       "      <td id=\"T_27da8_row10_col6\" class=\"data row10 col6\" >11.281237</td>\n",
       "      <td id=\"T_27da8_row10_col7\" class=\"data row10 col7\" >680.080847</td>\n",
       "    </tr>\n",
       "    <tr>\n",
       "      <th id=\"T_27da8_level0_row11\" class=\"row_heading level0 row11\" >trip_duration</th>\n",
       "      <td id=\"T_27da8_row11_col0\" class=\"data row11 col0\" >1555718.000000</td>\n",
       "      <td id=\"T_27da8_row11_col1\" class=\"data row11 col1\" >59.657949</td>\n",
       "      <td id=\"T_27da8_row11_col2\" class=\"data row11 col2\" >95.956967</td>\n",
       "      <td id=\"T_27da8_row11_col3\" class=\"data row11 col3\" >0.266667</td>\n",
       "      <td id=\"T_27da8_row11_col4\" class=\"data row11 col4\" >28.700000</td>\n",
       "      <td id=\"T_27da8_row11_col5\" class=\"data row11 col5\" >43.466667</td>\n",
       "      <td id=\"T_27da8_row11_col6\" class=\"data row11 col6\" >65.350000</td>\n",
       "      <td id=\"T_27da8_row11_col7\" class=\"data row11 col7\" >1427.933333</td>\n",
       "    </tr>\n",
       "    <tr>\n",
       "      <th id=\"T_27da8_level0_row12\" class=\"row_heading level0 row12\" >year</th>\n",
       "      <td id=\"T_27da8_row12_col0\" class=\"data row12 col0\" >1555718.000000</td>\n",
       "      <td id=\"T_27da8_row12_col1\" class=\"data row12 col1\" >2021.000051</td>\n",
       "      <td id=\"T_27da8_row12_col2\" class=\"data row12 col2\" >0.007171</td>\n",
       "      <td id=\"T_27da8_row12_col3\" class=\"data row12 col3\" >2021.000000</td>\n",
       "      <td id=\"T_27da8_row12_col4\" class=\"data row12 col4\" >2021.000000</td>\n",
       "      <td id=\"T_27da8_row12_col5\" class=\"data row12 col5\" >2021.000000</td>\n",
       "      <td id=\"T_27da8_row12_col6\" class=\"data row12 col6\" >2021.000000</td>\n",
       "      <td id=\"T_27da8_row12_col7\" class=\"data row12 col7\" >2022.000000</td>\n",
       "    </tr>\n",
       "    <tr>\n",
       "      <th id=\"T_27da8_level0_row13\" class=\"row_heading level0 row13\" >month</th>\n",
       "      <td id=\"T_27da8_row13_col0\" class=\"data row13 col0\" >1555718.000000</td>\n",
       "      <td id=\"T_27da8_row13_col1\" class=\"data row13 col1\" >6.999965</td>\n",
       "      <td id=\"T_27da8_row13_col2\" class=\"data row13 col2\" >0.040287</td>\n",
       "      <td id=\"T_27da8_row13_col3\" class=\"data row13 col3\" >1.000000</td>\n",
       "      <td id=\"T_27da8_row13_col4\" class=\"data row13 col4\" >7.000000</td>\n",
       "      <td id=\"T_27da8_row13_col5\" class=\"data row13 col5\" >7.000000</td>\n",
       "      <td id=\"T_27da8_row13_col6\" class=\"data row13 col6\" >7.000000</td>\n",
       "      <td id=\"T_27da8_row13_col7\" class=\"data row13 col7\" >9.000000</td>\n",
       "    </tr>\n",
       "  </tbody>\n",
       "</table>\n"
      ],
      "text/plain": [
       "<pandas.io.formats.style.Styler at 0x7fec9eb1c4c0>"
      ]
     },
     "execution_count": 33,
     "metadata": {},
     "output_type": "execute_result"
    }
   ],
   "source": [
    "# Get info for numerical columns\n",
    "UTIL.get_df_info(merge_df)"
   ]
  },
  {
   "cell_type": "code",
   "execution_count": 34,
   "metadata": {},
   "outputs": [
    {
     "name": "stdout",
     "output_type": "stream",
     "text": [
      "Total Percentage of Missing values: 0% \n"
     ]
    }
   ],
   "source": [
    "UTIL.percent_missing(merge_df)"
   ]
  },
  {
   "cell_type": "code",
   "execution_count": 35,
   "metadata": {},
   "outputs": [],
   "source": [
    "# UTIL.check_outlier(merge_df)"
   ]
  },
  {
   "cell_type": "code",
   "execution_count": 36,
   "metadata": {},
   "outputs": [
    {
     "name": "stderr",
     "output_type": "stream",
     "text": [
      "/home/nhgirma/.local/lib/python3.10/site-packages/seaborn/_decorators.py:36: FutureWarning: Pass the following variable as a keyword arg: x. From version 0.12, the only valid positional argument will be `data`, and passing other arguments without an explicit keyword will result in an error or misinterpretation.\n",
      "  warnings.warn(\n",
      "No artists with labels found to put in legend.  Note that artists whose label start with an underscore are ignored when legend() is called with no argument.\n"
     ]
    },
    {
     "data": {
      "text/plain": [
       "<matplotlib.legend.Legend at 0x7fec9eb1cd90>"
      ]
     },
     "execution_count": 36,
     "metadata": {},
     "output_type": "execute_result"
    },
    {
     "data": {
      "image/png": "[encoded data removed]",
      "text/plain": [
       "<Figure size 640x480 with 1 Axes>"
      ]
     },
     "metadata": {},
     "output_type": "display_data"
    }
   ],
   "source": [
    "sns.countplot(merge_df['driver_action'])\n",
    "plt.title('Drivers Action')\n",
    "plt.legend()"
   ]
  },
  {
   "cell_type": "code",
   "execution_count": null,
   "metadata": {},
   "outputs": [],
   "source": []
  }
 ],
 "metadata": {
  "kernelspec": {
   "display_name": "Python 3.10.6 64-bit",
   "language": "python",
   "name": "python3"
  },
  "language_info": {
   "codemirror_mode": {
    "name": "ipython",
    "version": 3
   },
   "file_extension": ".py",
   "mimetype": "text/x-python",
   "name": "python",
   "nbconvert_exporter": "python",
   "pygments_lexer": "ipython3",
   "version": "3.10.6"
  },
  "orig_nbformat": 4,
  "vscode": {
   "interpreter": {
    "hash": "916dbcbb3f70747c44a77c7bcd40155683ae19c65e1c03b4aa3499c5328201f1"
   }
  }
 },
 "nbformat": 4,
 "nbformat_minor": 2
}
